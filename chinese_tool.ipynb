{
 "cells": [
  {
   "cell_type": "code",
   "execution_count": 1,
   "metadata": {},
   "outputs": [],
   "source": [
    "with open('news.txt','r',encoding = 'utf8') as f:\n",
    "    article = f.read()"
   ]
  },
  {
   "cell_type": "code",
   "execution_count": 2,
   "metadata": {},
   "outputs": [
    {
     "data": {
      "text/plain": [
       "'【翻牆必看】中共病毒攻入沙特王室的緣由\\n更新 2020-04-13 2:00 PM 人氣 38標籤: 【翻牆必看】, 中共病毒, 沙特王室, 中招 Facebook Twitter Line 複製鏈接 Print【字號】 大  中  小\\n【大紀元2020年04月13日訊】大紀元每天為讀者梳理翻牆必看的文章：\\n\\n\\n1.【疫情透視】中共病毒為何重創沙特王室\\n中共病毒（武漢肺炎）攻入沙特阿拉伯王室，150名王室成員染病。媒體報導，薩勒曼國王的侄子費薩爾·本·本達爾親王（Prince Faisal bin Bandar bin Abdulaziz Al Saud），正在接受重症監護。\\n\\n2.大陸企業停工通知刷爆網絡 剛復工又放假\\n中共隱瞞疫情導致全球大流行，隨即令大陸企業失去訂單。近日，很多企業的“停工通知”在網絡曝光，均從3月末至4月初開始再次停工，復工之日遙遙無期。\\n\\n3.方方日記將在歐美出版 方方再發聲懟胡錫進\\n大陸作家方方在武漢封城期間撰寫的日記8月將在美國出版，消息傳出後，中共喉舌《環球時報》刊文攻擊方方，許多五毛粉紅也跟進攻擊方方。方方作出迴應。並嗆聲胡錫進“你以為你是誰？”\\n\\n4.扛過多次危機扛不過疫情 義烏商城空蕩蕩\\n曾經歷幾次經濟危機皆“硬扛”過來的義烏國際商貿城的商家們，如今面對中共病毒（武漢肺炎）疫情的衝擊再也扛不住了。這座曾被稱為“全球最大的小商品批發市場”，目前已出現嚴重危機。\\n\\n5.【全球疫情直擊】武漢小區仍管控 死者家屬吿當局\\n歡迎走進“新聞第一現場”，“中共肺炎病毒，全球疫情情況。”我是陳曉天。中共病毒持續肆虐全球。截至週六，中國大陸以外，確診人數超過162萬，死亡超過10萬人。美國疫情趨向平緩，不過防疫措施扔不可放鬆。\\n\\n6.金正恩胞妹再度攀升 回任政治局候補委員\\n朝鮮領導人金正恩的胞妹金與正，去年不再擔任政治局候補委員後，日前再次出任政治局候補委員。分析認為，這顯示她的政治地位攀升。'"
      ]
     },
     "execution_count": 2,
     "metadata": {},
     "output_type": "execute_result"
    }
   ],
   "source": [
    "#opencc\n",
    "from opencc import OpenCC\n",
    "cc = OpenCC('s2tw')  # convert from Simplified Chinese to Traditional Chinese\n",
    "# can also set conversion by calling set_conversion\n",
    "# cc.set_conversion('s2tw')\n",
    "to_convert = article\n",
    "converted = cc.convert(to_convert)\n",
    "converted"
   ]
  },
  {
   "cell_type": "code",
   "execution_count": 3,
   "metadata": {},
   "outputs": [
    {
     "name": "stderr",
     "output_type": "stream",
     "text": [
      "Building prefix dict from C:\\Users\\user\\PycharmProjects\\MLDemo\\dict.txt.big ...\n",
      "Loading model from cache C:\\Users\\user\\AppData\\Local\\Temp\\jieba.u8b0aede1d05d994ba4294f10e50c49e7.cache\n",
      "Loading model cost 1.192 seconds.\n",
      "Prefix dict has been built successfully.\n"
     ]
    },
    {
     "data": {
      "text/plain": [
       "'【 翻牆 必看 】 中共 病毒 攻入 沙特 王室 的 緣由 \\n 更新   2020 - 04 - 13   2 : 00   PM   人氣   38 標籤 :   【 翻牆 必看 】 ,   中共 病毒 ,   沙特 王室 ,   中招   Facebook   Twitter   Line   複製 鏈接   Print 【 字號 】   大     中     小 \\n 【 大 紀元 2020 年 04 月 13 日訊 】 大 紀元 每天 為 讀者 梳理 翻牆 必看 的 文章 ： \\n \\n \\n 1 . 【 疫情 透視 】 中共 病毒 為何 重創 沙特 王室 \\n 中共 病毒 （ 武漢 肺炎 ） 攻入 沙特阿拉伯 王室 ， 150 名 王室 成員 染病 。 媒體 報導 ， 薩勒曼 國王 的 侄子 費薩爾 · 本 · 本 達爾 親王 （ Prince   Faisal   bin   Bandar   bin   Abdulaziz   Al   Saud ） ， 正在 接受 重症 監護 。 \\n \\n 2 . 大陸 企業 停工 通知 刷 爆 網絡   剛 復工 又 放假 \\n 中共 隱瞞 疫情 導致 全球 大 流行 ， 隨即 令 大陸 企業 失去 訂單 。 近日 ， 很多 企業 的 “ 停工 通知 ” 在 網絡 曝光 ， 均 從 3 月末 至 4 月初 開始 再次 停工 ， 復工 之 日 遙遙無期 。 \\n \\n 3 . 方方 日記 將在 歐美 出版   方方 再 發聲 懟 胡錫進 \\n 大陸 作家 方方 在 武漢 封城 期間 撰寫 的 日記 8 月將 在 美國 出版 ， 消息 傳出 後 ， 中共 喉舌 《 環球時報 》 刊文 攻擊 方方 ， 許多 五毛 粉紅 也 跟進 攻擊 方方 。 方方 作出 迴應 。 並嗆 聲 胡錫進 “ 你 以 為 你 是 誰 ？ ” \\n \\n 4 . 扛過 多次 危機 扛 不過 疫情   義烏 商城 空蕩蕩 \\n 曾 經歷 幾次 經濟危機 皆 “ 硬 扛 ” 過來 的 義烏 國際 商貿城 的 商家 們 ， 如今 面對 中共 病毒 （ 武漢 肺炎 ） 疫情 的 衝擊 再也 扛不住 了 。 這座 曾 被 稱為 “ 全球 最大 的 小商品 批發市場 ” ， 目前 已 出現 嚴重 危機 。 \\n \\n 5 . 【 全球 疫情 直擊 】 武漢 小區 仍 管控   死者家屬 吿 當局 \\n 歡迎 走進 “ 新聞 第一 現場 ” ， “ 中共 肺炎 病毒 ， 全球 疫情 情況 。 ” 我 是 陳曉天 。 中共 病毒 持續 肆虐 全球 。 截至 週六 ， 中國 大陸 以外 ， 確診 人數 超過 162 萬 ， 死亡 超過 10 萬人 。 美國 疫情 趨向 平緩 ， 不過 防疫 措施 扔 不可 放鬆 。 \\n \\n 6 . 金正恩 胞妹 再度 攀升   回任 政治局 候補委員 \\n 朝鮮 領導人 金正恩 的 胞妹 金與正 ， 去年 不再 擔任 政治局 候補委員 後 ， 日前 再次 出任 政治局 候補委員 。 分析 認為 ， 這 顯示 她 的 政治 地位 攀升 。'"
      ]
     },
     "execution_count": 3,
     "metadata": {},
     "output_type": "execute_result"
    }
   ],
   "source": [
    "import os\n",
    "import jieba \n",
    "from urllib.request import urlretrieve\n",
    "if not os.path.exists('dict.txt.big'):\n",
    "    print('download big dict')\n",
    "    url = \"https://github.com/fxsjy/jieba/raw/master/extra_dict/dict.txt.big\"\n",
    "    urlretrieve(url, \"dict.txt.big\")\n",
    "# with open ('news.txt','r',encoding = 'utf8') as n:\n",
    "#     news = n.read()\n",
    "    \n",
    "jieba.set_dictionary('dict.txt.big')\n",
    "jieba.load_userdict('politics_dict.txt')\n",
    "\" \".join(jieba.cut(converted))"
   ]
  },
  {
   "cell_type": "code",
   "execution_count": 4,
   "metadata": {},
   "outputs": [
    {
     "data": {
      "text/plain": [
       "['中共',\n",
       " '方方',\n",
       " '疫情',\n",
       " '病毒',\n",
       " '武漢',\n",
       " '大陸',\n",
       " '王室',\n",
       " '必看',\n",
       " '翻牆',\n",
       " '企業',\n",
       " '候補委員',\n",
       " '沙特',\n",
       " '停工',\n",
       " '肺炎',\n",
       " '政治局',\n",
       " '胞妹',\n",
       " '全球',\n",
       " '2020',\n",
       " '04',\n",
       " '13']"
      ]
     },
     "execution_count": 4,
     "metadata": {},
     "output_type": "execute_result"
    }
   ],
   "source": [
    "from jieba.analyse import extract_tags\n",
    "extract_tags(converted)"
   ]
  }
 ],
 "metadata": {
  "kernelspec": {
   "display_name": "Python 3",
   "language": "python",
   "name": "python3"
  },
  "language_info": {
   "codemirror_mode": {
    "name": "ipython",
    "version": 3
   },
   "file_extension": ".py",
   "mimetype": "text/x-python",
   "name": "python",
   "nbconvert_exporter": "python",
   "pygments_lexer": "ipython3",
   "version": "3.7.6"
  }
 },
 "nbformat": 4,
 "nbformat_minor": 4
}
