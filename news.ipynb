{
 "cells": [
  {
   "cell_type": "code",
   "execution_count": 1,
   "metadata": {},
   "outputs": [],
   "source": [
    "import os\n",
    "import glob\n",
    "import pandas as pd\n",
    "def get_data(dn):\n",
    "    data = {\n",
    "        'news':[],\n",
    "        'ans':[]\n",
    "    }\n",
    "    dirs = glob.glob(os.path.join(dn, '*'))\n",
    "    for d in dirs:\n",
    "        pat = os.path.join(d,'*.[tT][xX][tT]')\n",
    "        fs = glob.glob(pat)\n",
    "        for fp in fs:\n",
    "            with open(fp,'r',encoding='utf8') as f:\n",
    "                news = f.read()\n",
    "            ans = os.path.split(d)[-1]\n",
    "            data['news'].append(news)\n",
    "            data['ans'].append(ans)\n",
    "    df = pd.DataFrame(data, columns=['news','ans'])\n",
    "    return df"
   ]
  },
  {
   "cell_type": "code",
   "execution_count": 2,
   "metadata": {},
   "outputs": [
    {
     "data": {
      "text/html": [
       "<div>\n",
       "<style scoped>\n",
       "    .dataframe tbody tr th:only-of-type {\n",
       "        vertical-align: middle;\n",
       "    }\n",
       "\n",
       "    .dataframe tbody tr th {\n",
       "        vertical-align: top;\n",
       "    }\n",
       "\n",
       "    .dataframe thead th {\n",
       "        text-align: right;\n",
       "    }\n",
       "</style>\n",
       "<table border=\"1\" class=\"dataframe\">\n",
       "  <thead>\n",
       "    <tr style=\"text-align: right;\">\n",
       "      <th></th>\n",
       "      <th>news</th>\n",
       "      <th>ans</th>\n",
       "    </tr>\n",
       "  </thead>\n",
       "  <tbody>\n",
       "    <tr>\n",
       "      <th>0</th>\n",
       "      <td>日月光華 -- Traffic_Info精華區文章閱讀\\n-----------------...</td>\n",
       "      <td>交通</td>\n",
       "    </tr>\n",
       "    <tr>\n",
       "      <th>1</th>\n",
       "      <td>日月光華 -- Traffic_Info精華區文章閱讀\\n-----------------...</td>\n",
       "      <td>交通</td>\n",
       "    </tr>\n",
       "    <tr>\n",
       "      <th>2</th>\n",
       "      <td>日月光華 -- Traffic_Info精華區文章閱讀\\n-----------------...</td>\n",
       "      <td>交通</td>\n",
       "    </tr>\n",
       "    <tr>\n",
       "      <th>3</th>\n",
       "      <td>三趟火車停開 乘客可全額退票 \\n瀏覽次數：1180 \\n    昨日，來自鐵路部門的消息說...</td>\n",
       "      <td>交通</td>\n",
       "    </tr>\n",
       "    <tr>\n",
       "      <th>4</th>\n",
       "      <td>日月光華 -- Traffic_Info精華區文章閱讀\\n-----------------...</td>\n",
       "      <td>交通</td>\n",
       "    </tr>\n",
       "    <tr>\n",
       "      <th>...</th>\n",
       "      <td>...</td>\n",
       "      <td>...</td>\n",
       "    </tr>\n",
       "    <tr>\n",
       "      <th>96</th>\n",
       "      <td>最優秀選手無緣亞運會健美賽\\n \\n　 \\n    健美在亞洲運動會上是“新生兒”——韓國釜...</td>\n",
       "      <td>體育</td>\n",
       "    </tr>\n",
       "    <tr>\n",
       "      <th>97</th>\n",
       "      <td>\\n各國記者眼中的羽毛球世錦賽\\n \\n\\n-----------------------...</td>\n",
       "      <td>體育</td>\n",
       "    </tr>\n",
       "    <tr>\n",
       "      <th>98</th>\n",
       "      <td>\\n友好運動會第五天 東道主選手大顯神威\\n2001年09月03日02:51:40 新華社 ...</td>\n",
       "      <td>體育</td>\n",
       "    </tr>\n",
       "    <tr>\n",
       "      <th>99</th>\n",
       "      <td>不靠技術比運氣\\n\\n　　第二屆奧運會在巴黎舉行，同時這裡也正在舉行國際博覽會，東道主把一些...</td>\n",
       "      <td>體育</td>\n",
       "    </tr>\n",
       "    <tr>\n",
       "      <th>100</th>\n",
       "      <td>帆 板 運 動 簡 介（二）\\n\\n　　我國在79年由國家體委青島航海運動學校成功試製出第一...</td>\n",
       "      <td>體育</td>\n",
       "    </tr>\n",
       "  </tbody>\n",
       "</table>\n",
       "<p>101 rows × 2 columns</p>\n",
       "</div>"
      ],
      "text/plain": [
       "                                                  news ans\n",
       "0    日月光華 -- Traffic_Info精華區文章閱讀\\n-----------------...  交通\n",
       "1    日月光華 -- Traffic_Info精華區文章閱讀\\n-----------------...  交通\n",
       "2    日月光華 -- Traffic_Info精華區文章閱讀\\n-----------------...  交通\n",
       "3    三趟火車停開 乘客可全額退票 \\n瀏覽次數：1180 \\n    昨日，來自鐵路部門的消息說...  交通\n",
       "4    日月光華 -- Traffic_Info精華區文章閱讀\\n-----------------...  交通\n",
       "..                                                 ...  ..\n",
       "96   最優秀選手無緣亞運會健美賽\\n \\n　 \\n    健美在亞洲運動會上是“新生兒”——韓國釜...  體育\n",
       "97    \\n各國記者眼中的羽毛球世錦賽\\n \\n\\n-----------------------...  體育\n",
       "98   \\n友好運動會第五天 東道主選手大顯神威\\n2001年09月03日02:51:40 新華社 ...  體育\n",
       "99   不靠技術比運氣\\n\\n　　第二屆奧運會在巴黎舉行，同時這裡也正在舉行國際博覽會，東道主把一些...  體育\n",
       "100  帆 板 運 動 簡 介（二）\\n\\n　　我國在79年由國家體委青島航海運動學校成功試製出第一...  體育\n",
       "\n",
       "[101 rows x 2 columns]"
      ]
     },
     "execution_count": 2,
     "metadata": {},
     "output_type": "execute_result"
    }
   ],
   "source": [
    "train_df = get_data('chinese_news_trans/chinese_news_trans/')\n",
    "test_df = get_data('chinese_news_test/chinese_news_test/')\n",
    "test_df"
   ]
  },
  {
   "cell_type": "code",
   "execution_count": 13,
   "metadata": {},
   "outputs": [
    {
     "data": {
      "text/plain": [
       "{0: '交通',\n",
       " 1: '政治',\n",
       " 2: '教育',\n",
       " 3: '環境',\n",
       " 4: '經濟',\n",
       " 5: '藝術',\n",
       " 6: '計算機',\n",
       " 7: '軍事',\n",
       " 8: '醫藥',\n",
       " 9: '體育'}"
      ]
     },
     "execution_count": 13,
     "metadata": {},
     "output_type": "execute_result"
    }
   ],
   "source": [
    "#unique value_counts\n",
    "kind = train_df['ans'].unique()\n",
    "# enumerate\n",
    "# kind\n",
    "# trans = {k:i for i, k in enumerate(kind)}\n",
    "reverse_trans = {i:k for i, k in enumerate(kind)}\n",
    "reverse_trans"
   ]
  },
  {
   "cell_type": "code",
   "execution_count": 4,
   "metadata": {},
   "outputs": [],
   "source": [
    "y_train = train_df['ans'].replace(trans)\n",
    "y_test = test_df['ans'].replace(trans)"
   ]
  },
  {
   "cell_type": "code",
   "execution_count": 5,
   "metadata": {},
   "outputs": [],
   "source": [
    "import os \n",
    "from urllib.request import urlretrieve\n",
    "DICT_PATH = 'dict.txt.big'\n",
    "if not os.path.exists(DICT_PATH):\n",
    "    print('install big dict')\n",
    "    url = 'https://github.com/fxsjy/jieba/raw/master/extra_dict/dict.txt.big'\n",
    "    urlretrieve(url, DICT_PATH)"
   ]
  },
  {
   "cell_type": "code",
   "execution_count": 6,
   "metadata": {},
   "outputs": [
    {
     "name": "stderr",
     "output_type": "stream",
     "text": [
      "Building prefix dict from D:\\dict.txt.big ...\n",
      "Loading model from cache C:\\Users\\user\\AppData\\Local\\Temp\\jieba.ub18b883c92529549e6ceff6bcd158ca1.cache\n",
      "Loading model cost 1.145 seconds.\n",
      "Prefix dict has been built successfully.\n"
     ]
    }
   ],
   "source": [
    "import jieba\n",
    "jieba.set_dictionary(DICT_PATH)\n",
    "def newscut(news):\n",
    "    s = \" \".join(jieba.cut(news))\n",
    "    return s.replace('\\r','').replace('\\n','')\n",
    "x_train_raw = train_df['news'].apply(newscut)\n",
    "x_test_raw = test_df['news'].apply(newscut)"
   ]
  },
  {
   "cell_type": "code",
   "execution_count": 7,
   "metadata": {},
   "outputs": [
    {
     "data": {
      "text/plain": [
       "<101x76399 sparse matrix of type '<class 'numpy.int64'>'\n",
       "\twith 27152 stored elements in Compressed Sparse Row format>"
      ]
     },
     "execution_count": 7,
     "metadata": {},
     "output_type": "execute_result"
    }
   ],
   "source": [
    "from sklearn.feature_extraction.text import CountVectorizer\n",
    "vec = CountVectorizer()\n",
    "x_train = vec.fit_transform(x_train_raw)\n",
    "x_test = vec.transform(x_test_raw)\n",
    "x_test"
   ]
  },
  {
   "cell_type": "code",
   "execution_count": 8,
   "metadata": {},
   "outputs": [
    {
     "data": {
      "text/plain": [
       "MultinomialNB(alpha=1.0, class_prior=None, fit_prior=True)"
      ]
     },
     "execution_count": 8,
     "metadata": {},
     "output_type": "execute_result"
    }
   ],
   "source": [
    "from sklearn.naive_bayes import MultinomialNB\n",
    "clf = MultinomialNB()\n",
    "clf.fit(x_train, y_train)"
   ]
  },
  {
   "cell_type": "code",
   "execution_count": 9,
   "metadata": {},
   "outputs": [
    {
     "data": {
      "text/plain": [
       "1.0"
      ]
     },
     "execution_count": 9,
     "metadata": {},
     "output_type": "execute_result"
    }
   ],
   "source": [
    "from sklearn.metrics import accuracy_score\n",
    "pre = clf.predict(x_test)\n",
    "accuracy_score(pre, y_test)"
   ]
  },
  {
   "cell_type": "code",
   "execution_count": 10,
   "metadata": {},
   "outputs": [
    {
     "data": {
      "text/html": [
       "<div>\n",
       "<style scoped>\n",
       "    .dataframe tbody tr th:only-of-type {\n",
       "        vertical-align: middle;\n",
       "    }\n",
       "\n",
       "    .dataframe tbody tr th {\n",
       "        vertical-align: top;\n",
       "    }\n",
       "\n",
       "    .dataframe thead th {\n",
       "        text-align: right;\n",
       "    }\n",
       "</style>\n",
       "<table border=\"1\" class=\"dataframe\">\n",
       "  <thead>\n",
       "    <tr style=\"text-align: right;\">\n",
       "      <th></th>\n",
       "      <th>交通(預測)</th>\n",
       "      <th>政治(預測)</th>\n",
       "      <th>教育(預測)</th>\n",
       "      <th>環境(預測)</th>\n",
       "      <th>經濟(預測)</th>\n",
       "      <th>藝術(預測)</th>\n",
       "      <th>計算機(預測)</th>\n",
       "      <th>軍事(預測)</th>\n",
       "      <th>醫藥(預測)</th>\n",
       "      <th>體育(預測)</th>\n",
       "    </tr>\n",
       "  </thead>\n",
       "  <tbody>\n",
       "    <tr>\n",
       "      <th>交通(答案)</th>\n",
       "      <td>10</td>\n",
       "      <td>0</td>\n",
       "      <td>0</td>\n",
       "      <td>0</td>\n",
       "      <td>0</td>\n",
       "      <td>0</td>\n",
       "      <td>0</td>\n",
       "      <td>0</td>\n",
       "      <td>0</td>\n",
       "      <td>0</td>\n",
       "    </tr>\n",
       "    <tr>\n",
       "      <th>政治(答案)</th>\n",
       "      <td>0</td>\n",
       "      <td>11</td>\n",
       "      <td>0</td>\n",
       "      <td>0</td>\n",
       "      <td>0</td>\n",
       "      <td>0</td>\n",
       "      <td>0</td>\n",
       "      <td>0</td>\n",
       "      <td>0</td>\n",
       "      <td>0</td>\n",
       "    </tr>\n",
       "    <tr>\n",
       "      <th>教育(答案)</th>\n",
       "      <td>0</td>\n",
       "      <td>0</td>\n",
       "      <td>10</td>\n",
       "      <td>0</td>\n",
       "      <td>0</td>\n",
       "      <td>0</td>\n",
       "      <td>0</td>\n",
       "      <td>0</td>\n",
       "      <td>0</td>\n",
       "      <td>0</td>\n",
       "    </tr>\n",
       "    <tr>\n",
       "      <th>環境(答案)</th>\n",
       "      <td>0</td>\n",
       "      <td>0</td>\n",
       "      <td>0</td>\n",
       "      <td>10</td>\n",
       "      <td>0</td>\n",
       "      <td>0</td>\n",
       "      <td>0</td>\n",
       "      <td>0</td>\n",
       "      <td>0</td>\n",
       "      <td>0</td>\n",
       "    </tr>\n",
       "    <tr>\n",
       "      <th>經濟(答案)</th>\n",
       "      <td>0</td>\n",
       "      <td>0</td>\n",
       "      <td>0</td>\n",
       "      <td>0</td>\n",
       "      <td>10</td>\n",
       "      <td>0</td>\n",
       "      <td>0</td>\n",
       "      <td>0</td>\n",
       "      <td>0</td>\n",
       "      <td>0</td>\n",
       "    </tr>\n",
       "    <tr>\n",
       "      <th>藝術(答案)</th>\n",
       "      <td>0</td>\n",
       "      <td>0</td>\n",
       "      <td>0</td>\n",
       "      <td>0</td>\n",
       "      <td>0</td>\n",
       "      <td>10</td>\n",
       "      <td>0</td>\n",
       "      <td>0</td>\n",
       "      <td>0</td>\n",
       "      <td>0</td>\n",
       "    </tr>\n",
       "    <tr>\n",
       "      <th>計算機(答案)</th>\n",
       "      <td>0</td>\n",
       "      <td>0</td>\n",
       "      <td>0</td>\n",
       "      <td>0</td>\n",
       "      <td>0</td>\n",
       "      <td>0</td>\n",
       "      <td>10</td>\n",
       "      <td>0</td>\n",
       "      <td>0</td>\n",
       "      <td>0</td>\n",
       "    </tr>\n",
       "    <tr>\n",
       "      <th>軍事(答案)</th>\n",
       "      <td>0</td>\n",
       "      <td>0</td>\n",
       "      <td>0</td>\n",
       "      <td>0</td>\n",
       "      <td>0</td>\n",
       "      <td>0</td>\n",
       "      <td>0</td>\n",
       "      <td>10</td>\n",
       "      <td>0</td>\n",
       "      <td>0</td>\n",
       "    </tr>\n",
       "    <tr>\n",
       "      <th>醫藥(答案)</th>\n",
       "      <td>0</td>\n",
       "      <td>0</td>\n",
       "      <td>0</td>\n",
       "      <td>0</td>\n",
       "      <td>0</td>\n",
       "      <td>0</td>\n",
       "      <td>0</td>\n",
       "      <td>0</td>\n",
       "      <td>10</td>\n",
       "      <td>0</td>\n",
       "    </tr>\n",
       "    <tr>\n",
       "      <th>體育(答案)</th>\n",
       "      <td>0</td>\n",
       "      <td>0</td>\n",
       "      <td>0</td>\n",
       "      <td>0</td>\n",
       "      <td>0</td>\n",
       "      <td>0</td>\n",
       "      <td>0</td>\n",
       "      <td>0</td>\n",
       "      <td>0</td>\n",
       "      <td>10</td>\n",
       "    </tr>\n",
       "  </tbody>\n",
       "</table>\n",
       "</div>"
      ],
      "text/plain": [
       "         交通(預測)  政治(預測)  教育(預測)  環境(預測)  經濟(預測)  藝術(預測)  計算機(預測)  軍事(預測)  \\\n",
       "交通(答案)       10       0       0       0       0       0        0       0   \n",
       "政治(答案)        0      11       0       0       0       0        0       0   \n",
       "教育(答案)        0       0      10       0       0       0        0       0   \n",
       "環境(答案)        0       0       0      10       0       0        0       0   \n",
       "經濟(答案)        0       0       0       0      10       0        0       0   \n",
       "藝術(答案)        0       0       0       0       0      10        0       0   \n",
       "計算機(答案)       0       0       0       0       0       0       10       0   \n",
       "軍事(答案)        0       0       0       0       0       0        0      10   \n",
       "醫藥(答案)        0       0       0       0       0       0        0       0   \n",
       "體育(答案)        0       0       0       0       0       0        0       0   \n",
       "\n",
       "         醫藥(預測)  體育(預測)  \n",
       "交通(答案)        0       0  \n",
       "政治(答案)        0       0  \n",
       "教育(答案)        0       0  \n",
       "環境(答案)        0       0  \n",
       "經濟(答案)        0       0  \n",
       "藝術(答案)        0       0  \n",
       "計算機(答案)       0       0  \n",
       "軍事(答案)        0       0  \n",
       "醫藥(答案)       10       0  \n",
       "體育(答案)        0      10  "
      ]
     },
     "execution_count": 10,
     "metadata": {},
     "output_type": "execute_result"
    }
   ],
   "source": [
    "from sklearn.metrics import confusion_matrix\n",
    "mat = confusion_matrix(y_test, pre)\n",
    "col = [\"{}(預測)\".format(k) for k in kind]\n",
    "row = [\"{}(答案)\".format(k) for k in kind]\n",
    "pd.DataFrame(mat, columns = col, index=row)"
   ]
  },
  {
   "cell_type": "code",
   "execution_count": 11,
   "metadata": {},
   "outputs": [
    {
     "name": "stdout",
     "output_type": "stream",
     "text": [
      "請輸入新聞:珊瑚公主號7人返台，目前已有4人確診，其餘3名第一次採檢陰性者也將列為明知故犯。指揮中心指揮官陳時中今天稍早宣布，將對他們徵收集中檢疫、檢驗費用，估計每人約自付新台幣5萬1000元。  陳時中在昨天的記者會上表示，增加的五名境外移入就有四個是來自珊瑚公主號，這艘郵輪只有7名台人，於2月15日至美國、祕魯、玻利維亞、巴西及智利等地旅遊，並在3月5日從智利登上「珊瑚公主號」郵輪，該郵輪原定3月19日於阿根廷結束旅程，但由於阿根廷等多國封鎖邊境導致郵輪無法停泊，因此該郵輪在海上漂流多日，並於4月4日上午停靠美國佛羅里達州邁阿密港。  當時船上已有12名旅客及10名船員確診感染，其中3名旅客死亡。\n",
      "應該是: 經濟\n",
      "經濟 : 49.97246158170842 %\n",
      "軍事 : 29.434814783263825 %\n",
      "體育 : 20.187891606052688 %\n",
      "政治 : 0.40334339035142197 %\n",
      "交通 : 0.001488624407812357 %\n",
      "環境 : 1.1566604108688445e-08 %\n",
      "醫藥 : 2.649037990649154e-09 %\n",
      "藝術 : 4.160484582394866e-12 %\n",
      "計算機 : 8.741606699426528e-15 %\n",
      "教育 : 1.7651301012179987e-17 %\n"
     ]
    }
   ],
   "source": [
    "n = input(\"請輸入新聞:\")\n",
    "test = vec.transform([newscut(n)])\n",
    "pren = clf.predict(test)[0]\n",
    "print(\"應該是:\", reverse_trans[pren])\n",
    "proba = clf.predict_proba(test)[0]\n",
    "proba = list(enumerate(proba))\n",
    "for i, prob in sorted(proba, key=lambda x:x[1], reverse=True):\n",
    "    print(reverse_trans[i], \":\", prob * 100, \"%\")"
   ]
  },
  {
   "cell_type": "code",
   "execution_count": 12,
   "metadata": {},
   "outputs": [],
   "source": [
    "# list(zip([1,2,3],\n",
    "#         [4,5,6]))"
   ]
  },
  {
   "cell_type": "code",
   "execution_count": null,
   "metadata": {},
   "outputs": [],
   "source": []
  }
 ],
 "metadata": {
  "kernelspec": {
   "display_name": "Python 3",
   "language": "python",
   "name": "python3"
  },
  "language_info": {
   "codemirror_mode": {
    "name": "ipython",
    "version": 3
   },
   "file_extension": ".py",
   "mimetype": "text/x-python",
   "name": "python",
   "nbconvert_exporter": "python",
   "pygments_lexer": "ipython3",
   "version": "3.7.6"
  }
 },
 "nbformat": 4,
 "nbformat_minor": 4
}
